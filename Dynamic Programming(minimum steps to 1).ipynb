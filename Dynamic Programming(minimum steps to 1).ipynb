{
 "cells": [
  {
   "cell_type": "code",
   "execution_count": null,
   "metadata": {},
   "outputs": [],
   "source": [
    "# Minimum steps to 1 using Memoisation"
   ]
  },
  {
   "cell_type": "code",
   "execution_count": 3,
   "metadata": {},
   "outputs": [
    {
     "name": "stdout",
     "output_type": "stream",
     "text": [
      "36\n",
      "4\n"
     ]
    }
   ],
   "source": [
    "import sys\n",
    "def minstepsto1(n,dp):\n",
    "    if n==1:\n",
    "        return 0\n",
    "    ans1=sys.maxsize\n",
    "    if n%3==0:\n",
    "        if dp[n//3]==-1:\n",
    "            ans1=minstepsto1(n//3,dp)\n",
    "        else:\n",
    "            dp[n//3]=ans1\n",
    "    ans2=sys.maxsize\n",
    "    if n%2==0:\n",
    "        if dp[n//2]==-1:\n",
    "            ans2=minstepsto1(n//2,dp)\n",
    "        else:\n",
    "            dp[n//2]=ans2\n",
    "    if dp[n-1]==-1:\n",
    "        ans3=minstepsto1(n-1,dp)\n",
    "    else:\n",
    "        ans3=dp[n-1]\n",
    "    ans=1+min(ans1,ans2,ans3)\n",
    "    return ans\n",
    "           \n",
    "n=int(input())\n",
    "dp=[-1 for i in range(n+1)]\n",
    "print(minstepsto1(n,dp))"
   ]
  },
  {
   "cell_type": "code",
   "execution_count": null,
   "metadata": {},
   "outputs": [],
   "source": [
    "# Minimum steps to 1 using recursion"
   ]
  },
  {
   "cell_type": "code",
   "execution_count": 4,
   "metadata": {},
   "outputs": [
    {
     "name": "stdout",
     "output_type": "stream",
     "text": [
      "36\n",
      "4\n"
     ]
    }
   ],
   "source": [
    "def minstepsto1(n,dp):\n",
    "    if n==1:\n",
    "        return 0\n",
    "    ans1=sys.maxsize\n",
    "    if n%3==0:\n",
    "        ans1=minstepsto1(n//3,dp)\n",
    "    ans2=sys.maxsize\n",
    "    if n%2==0:\n",
    "        ans2=minstepsto1(n//2,dp)\n",
    "    ans3=minstepsto1(n-1,dp)\n",
    "    ans=1+min(ans1,ans2,ans3)\n",
    "    return ans\n",
    "           \n",
    "n=int(input())\n",
    "dp=[-1 for i in range(n+1)]\n",
    "print(minstepsto1(n,dp))"
   ]
  },
  {
   "cell_type": "code",
   "execution_count": null,
   "metadata": {},
   "outputs": [],
   "source": [
    "#minimum steps to 1 iterative "
   ]
  },
  {
   "cell_type": "code",
   "execution_count": 4,
   "metadata": {},
   "outputs": [
    {
     "name": "stdout",
     "output_type": "stream",
     "text": [
      "9\n",
      "2\n"
     ]
    }
   ],
   "source": [
    "def minimumstepsto1(n):\n",
    "    if n==2 or n==3:\n",
    "        return 1\n",
    "    dp=[-1 for i in range(n+1)]\n",
    "    dp[0]=0\n",
    "    dp[1]=0\n",
    "    dp[2]=1\n",
    "    dp[3]=1\n",
    "    i=4\n",
    "    while i<n+1:\n",
    "        if i%3==0:\n",
    "            m=i//3\n",
    "            dp[i]=dp[m]+1\n",
    "            i+=1\n",
    "        elif i%2==0:\n",
    "            m=i//2\n",
    "            dp[i]=dp[m]+1\n",
    "            i+=1\n",
    "        else:\n",
    "            m=i-1\n",
    "            dp[i]=dp[m]+1\n",
    "            i+=1\n",
    "\n",
    "    return dp[n]\n",
    "\n",
    "n=int(input())\n",
    "print(minimumstepsto1(n))"
   ]
  },
  {
   "cell_type": "code",
   "execution_count": null,
   "metadata": {},
   "outputs": [],
   "source": []
  }
 ],
 "metadata": {
  "kernelspec": {
   "display_name": "Python 3",
   "language": "python",
   "name": "python3"
  },
  "language_info": {
   "codemirror_mode": {
    "name": "ipython",
    "version": 3
   },
   "file_extension": ".py",
   "mimetype": "text/x-python",
   "name": "python",
   "nbconvert_exporter": "python",
   "pygments_lexer": "ipython3",
   "version": "3.8.5"
  }
 },
 "nbformat": 4,
 "nbformat_minor": 4
}
